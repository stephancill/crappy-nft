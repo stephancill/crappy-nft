{
 "cells": [
  {
   "cell_type": "code",
   "execution_count": 97,
   "metadata": {},
   "outputs": [],
   "source": [
    "from PIL import Image \n",
    "from IPython.display import display \n",
    "import random\n",
    "import json"
   ]
  },
  {
   "cell_type": "code",
   "execution_count": 98,
   "metadata": {},
   "outputs": [
    {
     "name": "stdout",
     "output_type": "stream",
     "text": [
      "{'Sushi Shirt': 'shirt-sushi', None: None, 'Anrgy': 'angry', 'Pensive': 'pensive', 'Sad': 'sad', 'Smile': 'smile', 'Smile with dimple': 'smile-dimple', 'Ethereum Cap': 'cap-eth', 'Market Cap': 'cap-mkt', 'Ohm Cap': 'cap-ohm', 'Plain Cap': 'cap-plain', 'Girl': 'girl', 'Barefoot': 'barefoot', 'Nikes': 'nike', 'Nikes with Unisocks': 'nike-socks', 'Plain Sneakers': 'plain'}\n"
     ]
    }
   ],
   "source": [
    "# Each image is made up a series of traits\n",
    "# The weightings for each trait drive the rarity and add up to 100%\n",
    "\n",
    "\n",
    "clothes = [\"Sushi Shirt\", None]\n",
    "clothes_files =  [\"shirt-sushi\", None]\n",
    "clothes_weights = [10, 90]\n",
    "\n",
    "faces = [\"Anrgy\", \"Pensive\", \"Sad\", \"Smile\", \"Smile with dimple\"]\n",
    "faces_files =  [\"angry\", \"pensive\", \"sad\", \"smile\", \"smile-dimple\"]\n",
    "faces_weights = [23.75, 23.75, 23.75, 23.75, 5]\n",
    "\n",
    "cap = [\"Ethereum Cap\", \"Market Cap\", \"Ohm Cap\", \"Plain Cap\"]\n",
    "cap_files = [\"cap-eth\", \"cap-mkt\", \"cap-ohm\", \"cap-plain\"]\n",
    "cap_weights = [25, 40, 10, 15]\n",
    "\n",
    "gender = [\"Girl\", None]\n",
    "gender_files = [\"girl\", None]\n",
    "gender_weights = [10, 90]\n",
    "\n",
    "shoes = [\"Barefoot\", \"Nikes\", \"Nikes with Unisocks\", \"Plain Sneakers\"]\n",
    "shoes_files = [\"barefoot\", \"nike\", \"nike-socks\", \"plain\"] \n",
    "shoes_weights = [30, 10, 1, 59]\n",
    "\n",
    "attribute_mapping = {\n",
    "    \"Clothes\": (clothes, clothes_weights),\n",
    "    \"Face\": (faces, faces_weights),\n",
    "    \"Gender\": (gender, gender_weights),\n",
    "    \"Head\": (head, head_weights),\n",
    "    \"Shoes\": (shoes, shoes_weights)\n",
    "}\n",
    "\n",
    "_name_filename = [{x[0]: x[1] for x in zipped} for zipped in [\n",
    "        zip(clothes, clothes_files), zip(faces, faces_files), zip(cap, cap_files), \n",
    "        zip(gender, gender_files), zip(shoes, shoes_files)]\n",
    "    ]\n",
    "name_filename = {}\n",
    "for x in _name_filename:\n",
    "    name_filename.update(x)\n",
    "\n",
    "print(name_filename)"
   ]
  },
  {
   "cell_type": "code",
   "execution_count": 99,
   "metadata": {},
   "outputs": [],
   "source": [
    "## Generate Traits\n",
    "\n",
    "TOTAL_IMAGES = 250 # Number of random unique images we want to generate\n",
    "\n",
    "all_images = [] \n",
    "\n",
    "# A recursive function to generate unique image combinations\n",
    "def create_new_image():\n",
    "    \n",
    "    new_image = {} #\n",
    "\n",
    "    for attribute in attribute_mapping:\n",
    "        new_image[attribute] = random.choices(*attribute_mapping[attribute])[0]\n",
    "    \n",
    "    \n",
    "    keys = list(new_image.keys())\n",
    "    for key in keys:\n",
    "        if not new_image[key]:\n",
    "            del new_image[key]\n",
    "    \n",
    "    if new_image in all_images:\n",
    "        return create_new_image()\n",
    "    else:\n",
    "        return new_image\n",
    "    \n",
    "    \n",
    "# Generate the unique combinations based on trait weightings\n",
    "for i in range(TOTAL_IMAGES): \n",
    "\n",
    "    new_trait_image = create_new_image()\n",
    "    \n",
    "    all_images.append(new_trait_image)"
   ]
  },
  {
   "cell_type": "code",
   "execution_count": 100,
   "metadata": {},
   "outputs": [
    {
     "name": "stdout",
     "output_type": "stream",
     "text": [
      "Are all images unique? True\n"
     ]
    }
   ],
   "source": [
    "# Returns true if all images are unique\n",
    "def all_images_unique(all_images):\n",
    "    seen = list()\n",
    "    return not any(i in seen or seen.append(i) for i in all_images)\n",
    "\n",
    "print(\"Are all images unique?\", all_images_unique(all_images))"
   ]
  },
  {
   "cell_type": "code",
   "execution_count": 101,
   "metadata": {},
   "outputs": [],
   "source": [
    "# Add token Id to each image\n",
    "i = 0\n",
    "for item in all_images:\n",
    "    item[\"tokenId\"] = i\n",
    "    i = i + 1"
   ]
  },
  {
   "cell_type": "code",
   "execution_count": 102,
   "metadata": {
    "tags": []
   },
   "outputs": [
    {
     "name": "stdout",
     "output_type": "stream",
     "text": [
      "[{'Face': 'Pensive', 'Head': 'Ohm Cap', 'Shoes': 'Nikes', 'tokenId': 0}, {'Face': 'Pensive', 'Head': 'Market Cap', 'Shoes': 'Plain Sneakers', 'tokenId': 1}, {'Face': 'Pensive', 'Head': 'Plain Cap', 'Shoes': 'Plain Sneakers', 'tokenId': 2}, {'Face': 'Anrgy', 'Gender': 'Girl', 'Head': 'Girl', 'Shoes': 'Plain Sneakers', 'tokenId': 3}, {'Face': 'Sad', 'Head': 'Market Cap', 'Shoes': 'Plain Sneakers', 'tokenId': 4}, {'Face': 'Smile', 'Head': 'Ohm Cap', 'Shoes': 'Plain Sneakers', 'tokenId': 5}, {'Face': 'Anrgy', 'Head': 'Ethereum Cap', 'Shoes': 'Barefoot', 'tokenId': 6}, {'Face': 'Anrgy', 'Head': 'Ethereum Cap', 'Shoes': 'Plain Sneakers', 'tokenId': 7}, {'Face': 'Sad', 'Head': 'Ohm Cap', 'Shoes': 'Plain Sneakers', 'tokenId': 8}, {'Face': 'Smile', 'Head': 'Ethereum Cap', 'Shoes': 'Plain Sneakers', 'tokenId': 9}, {'Face': 'Smile', 'Head': 'Plain Cap', 'Shoes': 'Barefoot', 'tokenId': 10}, {'Face': 'Sad', 'Head': 'Ethereum Cap', 'Shoes': 'Barefoot', 'tokenId': 11}, {'Face': 'Sad', 'Head': 'Plain Cap', 'Shoes': 'Barefoot', 'tokenId': 12}, {'Clothes': 'Sushi Shirt', 'Face': 'Pensive', 'Head': 'Market Cap', 'Shoes': 'Barefoot', 'tokenId': 13}, {'Face': 'Sad', 'Gender': 'Girl', 'Head': 'Market Cap', 'Shoes': 'Plain Sneakers', 'tokenId': 14}, {'Face': 'Sad', 'Head': 'Plain Cap', 'Shoes': 'Plain Sneakers', 'tokenId': 15}, {'Face': 'Anrgy', 'Head': 'Girl', 'Shoes': 'Barefoot', 'tokenId': 16}, {'Face': 'Pensive', 'Gender': 'Girl', 'Head': 'Market Cap', 'Shoes': 'Barefoot', 'tokenId': 17}, {'Clothes': 'Sushi Shirt', 'Face': 'Anrgy', 'Head': 'Market Cap', 'Shoes': 'Plain Sneakers', 'tokenId': 18}, {'Clothes': 'Sushi Shirt', 'Face': 'Pensive', 'Head': 'Market Cap', 'Shoes': 'Plain Sneakers', 'tokenId': 19}, {'Face': 'Smile', 'Head': 'Ohm Cap', 'Shoes': 'Nikes', 'tokenId': 20}, {'Face': 'Pensive', 'Head': 'Ohm Cap', 'Shoes': 'Barefoot', 'tokenId': 21}, {'Face': 'Pensive', 'Gender': 'Girl', 'Head': 'Ohm Cap', 'Shoes': 'Plain Sneakers', 'tokenId': 22}, {'Face': 'Anrgy', 'Head': 'Market Cap', 'Shoes': 'Plain Sneakers', 'tokenId': 23}, {'Face': 'Smile with dimple', 'Head': 'Ethereum Cap', 'Shoes': 'Nikes', 'tokenId': 24}, {'Clothes': 'Sushi Shirt', 'Face': 'Sad', 'Head': 'Market Cap', 'Shoes': 'Plain Sneakers', 'tokenId': 25}, {'Face': 'Sad', 'Gender': 'Girl', 'Head': 'Girl', 'Shoes': 'Plain Sneakers', 'tokenId': 26}, {'Face': 'Anrgy', 'Head': 'Market Cap', 'Shoes': 'Barefoot', 'tokenId': 27}, {'Face': 'Sad', 'Head': 'Market Cap', 'Shoes': 'Barefoot', 'tokenId': 28}, {'Face': 'Pensive', 'Head': 'Ethereum Cap', 'Shoes': 'Barefoot', 'tokenId': 29}, {'Face': 'Sad', 'Head': 'Ethereum Cap', 'Shoes': 'Plain Sneakers', 'tokenId': 30}, {'Face': 'Smile', 'Gender': 'Girl', 'Head': 'Plain Cap', 'Shoes': 'Nikes', 'tokenId': 31}, {'Face': 'Pensive', 'Head': 'Market Cap', 'Shoes': 'Barefoot', 'tokenId': 32}, {'Face': 'Smile', 'Head': 'Ethereum Cap', 'Shoes': 'Barefoot', 'tokenId': 33}, {'Face': 'Pensive', 'Head': 'Market Cap', 'Shoes': 'Nikes', 'tokenId': 34}, {'Clothes': 'Sushi Shirt', 'Face': 'Pensive', 'Head': 'Girl', 'Shoes': 'Nikes', 'tokenId': 35}, {'Clothes': 'Sushi Shirt', 'Face': 'Sad', 'Head': 'Market Cap', 'Shoes': 'Barefoot', 'tokenId': 36}, {'Face': 'Smile', 'Head': 'Plain Cap', 'Shoes': 'Plain Sneakers', 'tokenId': 37}, {'Face': 'Sad', 'Head': 'Girl', 'Shoes': 'Plain Sneakers', 'tokenId': 38}, {'Face': 'Pensive', 'Head': 'Ethereum Cap', 'Shoes': 'Plain Sneakers', 'tokenId': 39}, {'Face': 'Anrgy', 'Head': 'Plain Cap', 'Shoes': 'Plain Sneakers', 'tokenId': 40}, {'Clothes': 'Sushi Shirt', 'Face': 'Smile with dimple', 'Gender': 'Girl', 'Head': 'Ethereum Cap', 'Shoes': 'Barefoot', 'tokenId': 41}, {'Face': 'Pensive', 'Head': 'Plain Cap', 'Shoes': 'Barefoot', 'tokenId': 42}, {'Clothes': 'Sushi Shirt', 'Face': 'Sad', 'Head': 'Ethereum Cap', 'Shoes': 'Plain Sneakers', 'tokenId': 43}, {'Face': 'Smile with dimple', 'Gender': 'Girl', 'Head': 'Plain Cap', 'Shoes': 'Plain Sneakers', 'tokenId': 44}, {'Face': 'Smile', 'Head': 'Girl', 'Shoes': 'Plain Sneakers', 'tokenId': 45}, {'Face': 'Smile', 'Head': 'Market Cap', 'Shoes': 'Plain Sneakers', 'tokenId': 46}, {'Face': 'Smile', 'Gender': 'Girl', 'Head': 'Ethereum Cap', 'Shoes': 'Plain Sneakers', 'tokenId': 47}, {'Face': 'Smile with dimple', 'Head': 'Girl', 'Shoes': 'Barefoot', 'tokenId': 48}, {'Face': 'Smile', 'Head': 'Market Cap', 'Shoes': 'Barefoot', 'tokenId': 49}, {'Face': 'Smile with dimple', 'Head': 'Ohm Cap', 'Shoes': 'Plain Sneakers', 'tokenId': 50}, {'Face': 'Smile', 'Head': 'Ethereum Cap', 'Shoes': 'Nikes', 'tokenId': 51}, {'Face': 'Smile', 'Head': 'Girl', 'Shoes': 'Barefoot', 'tokenId': 52}, {'Clothes': 'Sushi Shirt', 'Face': 'Sad', 'Head': 'Market Cap', 'Shoes': 'Nikes', 'tokenId': 53}, {'Face': 'Anrgy', 'Gender': 'Girl', 'Head': 'Ethereum Cap', 'Shoes': 'Barefoot', 'tokenId': 54}, {'Face': 'Pensive', 'Head': 'Ohm Cap', 'Shoes': 'Plain Sneakers', 'tokenId': 55}, {'Face': 'Anrgy', 'Head': 'Girl', 'Shoes': 'Plain Sneakers', 'tokenId': 56}, {'Clothes': 'Sushi Shirt', 'Face': 'Anrgy', 'Head': 'Market Cap', 'Shoes': 'Barefoot', 'tokenId': 57}, {'Face': 'Sad', 'Gender': 'Girl', 'Head': 'Market Cap', 'Shoes': 'Barefoot', 'tokenId': 58}, {'Face': 'Anrgy', 'Gender': 'Girl', 'Head': 'Ethereum Cap', 'Shoes': 'Plain Sneakers', 'tokenId': 59}, {'Face': 'Anrgy', 'Head': 'Ethereum Cap', 'Shoes': 'Nikes', 'tokenId': 60}, {'Face': 'Anrgy', 'Gender': 'Girl', 'Head': 'Plain Cap', 'Shoes': 'Plain Sneakers', 'tokenId': 61}, {'Face': 'Smile', 'Head': 'Market Cap', 'Shoes': 'Nikes', 'tokenId': 62}, {'Clothes': 'Sushi Shirt', 'Face': 'Smile', 'Head': 'Ethereum Cap', 'Shoes': 'Plain Sneakers', 'tokenId': 63}, {'Face': 'Sad', 'Head': 'Market Cap', 'Shoes': 'Nikes', 'tokenId': 64}, {'Face': 'Smile', 'Gender': 'Girl', 'Head': 'Market Cap', 'Shoes': 'Plain Sneakers', 'tokenId': 65}, {'Face': 'Anrgy', 'Head': 'Market Cap', 'Shoes': 'Nikes with Unisocks', 'tokenId': 66}, {'Face': 'Sad', 'Head': 'Girl', 'Shoes': 'Nikes with Unisocks', 'tokenId': 67}, {'Face': 'Smile', 'Head': 'Ethereum Cap', 'Shoes': 'Nikes with Unisocks', 'tokenId': 68}, {'Clothes': 'Sushi Shirt', 'Face': 'Anrgy', 'Head': 'Plain Cap', 'Shoes': 'Nikes', 'tokenId': 69}, {'Face': 'Smile with dimple', 'Head': 'Market Cap', 'Shoes': 'Plain Sneakers', 'tokenId': 70}, {'Face': 'Anrgy', 'Head': 'Plain Cap', 'Shoes': 'Barefoot', 'tokenId': 71}, {'Face': 'Pensive', 'Head': 'Plain Cap', 'Shoes': 'Nikes with Unisocks', 'tokenId': 72}, {'Face': 'Anrgy', 'Gender': 'Girl', 'Head': 'Ohm Cap', 'Shoes': 'Plain Sneakers', 'tokenId': 73}, {'Face': 'Anrgy', 'Head': 'Ohm Cap', 'Shoes': 'Plain Sneakers', 'tokenId': 74}, {'Clothes': 'Sushi Shirt', 'Face': 'Pensive', 'Head': 'Ethereum Cap', 'Shoes': 'Plain Sneakers', 'tokenId': 75}, {'Face': 'Smile with dimple', 'Head': 'Plain Cap', 'Shoes': 'Plain Sneakers', 'tokenId': 76}, {'Face': 'Pensive', 'Head': 'Ethereum Cap', 'Shoes': 'Nikes', 'tokenId': 77}, {'Face': 'Sad', 'Gender': 'Girl', 'Head': 'Plain Cap', 'Shoes': 'Barefoot', 'tokenId': 78}, {'Clothes': 'Sushi Shirt', 'Face': 'Pensive', 'Head': 'Girl', 'Shoes': 'Plain Sneakers', 'tokenId': 79}, {'Clothes': 'Sushi Shirt', 'Face': 'Smile with dimple', 'Head': 'Market Cap', 'Shoes': 'Barefoot', 'tokenId': 80}, {'Clothes': 'Sushi Shirt', 'Face': 'Anrgy', 'Head': 'Ethereum Cap', 'Shoes': 'Plain Sneakers', 'tokenId': 81}, {'Face': 'Pensive', 'Head': 'Girl', 'Shoes': 'Plain Sneakers', 'tokenId': 82}, {'Clothes': 'Sushi Shirt', 'Face': 'Sad', 'Head': 'Plain Cap', 'Shoes': 'Plain Sneakers', 'tokenId': 83}, {'Clothes': 'Sushi Shirt', 'Face': 'Pensive', 'Head': 'Market Cap', 'Shoes': 'Nikes', 'tokenId': 84}, {'Face': 'Anrgy', 'Gender': 'Girl', 'Head': 'Market Cap', 'Shoes': 'Plain Sneakers', 'tokenId': 85}, {'Face': 'Sad', 'Head': 'Ohm Cap', 'Shoes': 'Barefoot', 'tokenId': 86}, {'Face': 'Sad', 'Head': 'Ohm Cap', 'Shoes': 'Nikes', 'tokenId': 87}, {'Face': 'Smile with dimple', 'Head': 'Ethereum Cap', 'Shoes': 'Plain Sneakers', 'tokenId': 88}, {'Face': 'Anrgy', 'Head': 'Plain Cap', 'Shoes': 'Nikes', 'tokenId': 89}, {'Face': 'Pensive', 'Head': 'Girl', 'Shoes': 'Barefoot', 'tokenId': 90}, {'Face': 'Anrgy', 'Head': 'Ohm Cap', 'Shoes': 'Nikes', 'tokenId': 91}, {'Face': 'Smile with dimple', 'Head': 'Market Cap', 'Shoes': 'Barefoot', 'tokenId': 92}, {'Clothes': 'Sushi Shirt', 'Face': 'Anrgy', 'Head': 'Ohm Cap', 'Shoes': 'Plain Sneakers', 'tokenId': 93}, {'Face': 'Anrgy', 'Head': 'Ohm Cap', 'Shoes': 'Barefoot', 'tokenId': 94}, {'Clothes': 'Sushi Shirt', 'Face': 'Anrgy', 'Head': 'Girl', 'Shoes': 'Plain Sneakers', 'tokenId': 95}, {'Clothes': 'Sushi Shirt', 'Face': 'Anrgy', 'Gender': 'Girl', 'Head': 'Girl', 'Shoes': 'Plain Sneakers', 'tokenId': 96}, {'Face': 'Sad', 'Gender': 'Girl', 'Head': 'Ethereum Cap', 'Shoes': 'Plain Sneakers', 'tokenId': 97}, {'Clothes': 'Sushi Shirt', 'Face': 'Smile', 'Head': 'Market Cap', 'Shoes': 'Plain Sneakers', 'tokenId': 98}, {'Clothes': 'Sushi Shirt', 'Face': 'Sad', 'Head': 'Plain Cap', 'Shoes': 'Barefoot', 'tokenId': 99}, {'Clothes': 'Sushi Shirt', 'Face': 'Smile', 'Gender': 'Girl', 'Head': 'Girl', 'Shoes': 'Barefoot', 'tokenId': 100}, {'Face': 'Anrgy', 'Head': 'Ohm Cap', 'Shoes': 'Nikes with Unisocks', 'tokenId': 101}, {'Face': 'Pensive', 'Gender': 'Girl', 'Head': 'Plain Cap', 'Shoes': 'Plain Sneakers', 'tokenId': 102}, {'Face': 'Smile with dimple', 'Head': 'Plain Cap', 'Shoes': 'Barefoot', 'tokenId': 103}, {'Face': 'Pensive', 'Gender': 'Girl', 'Head': 'Plain Cap', 'Shoes': 'Barefoot', 'tokenId': 104}, {'Face': 'Pensive', 'Gender': 'Girl', 'Head': 'Ethereum Cap', 'Shoes': 'Nikes with Unisocks', 'tokenId': 105}, {'Clothes': 'Sushi Shirt', 'Face': 'Smile with dimple', 'Head': 'Ethereum Cap', 'Shoes': 'Plain Sneakers', 'tokenId': 106}, {'Face': 'Smile', 'Gender': 'Girl', 'Head': 'Ethereum Cap', 'Shoes': 'Barefoot', 'tokenId': 107}, {'Face': 'Smile with dimple', 'Gender': 'Girl', 'Head': 'Market Cap', 'Shoes': 'Barefoot', 'tokenId': 108}, {'Face': 'Pensive', 'Gender': 'Girl', 'Head': 'Market Cap', 'Shoes': 'Plain Sneakers', 'tokenId': 109}, {'Clothes': 'Sushi Shirt', 'Face': 'Sad', 'Head': 'Ohm Cap', 'Shoes': 'Barefoot', 'tokenId': 110}, {'Face': 'Sad', 'Head': 'Market Cap', 'Shoes': 'Nikes with Unisocks', 'tokenId': 111}, {'Face': 'Anrgy', 'Head': 'Market Cap', 'Shoes': 'Nikes', 'tokenId': 112}, {'Face': 'Smile', 'Head': 'Ohm Cap', 'Shoes': 'Barefoot', 'tokenId': 113}, {'Face': 'Pensive', 'Head': 'Plain Cap', 'Shoes': 'Nikes', 'tokenId': 114}, {'Clothes': 'Sushi Shirt', 'Face': 'Anrgy', 'Head': 'Plain Cap', 'Shoes': 'Barefoot', 'tokenId': 115}, {'Clothes': 'Sushi Shirt', 'Face': 'Sad', 'Head': 'Girl', 'Shoes': 'Plain Sneakers', 'tokenId': 116}, {'Face': 'Smile with dimple', 'Head': 'Ethereum Cap', 'Shoes': 'Barefoot', 'tokenId': 117}, {'Face': 'Pensive', 'Gender': 'Girl', 'Head': 'Girl', 'Shoes': 'Barefoot', 'tokenId': 118}, {'Face': 'Anrgy', 'Gender': 'Girl', 'Head': 'Plain Cap', 'Shoes': 'Barefoot', 'tokenId': 119}, {'Face': 'Sad', 'Head': 'Girl', 'Shoes': 'Barefoot', 'tokenId': 120}, {'Face': 'Pensive', 'Gender': 'Girl', 'Head': 'Ethereum Cap', 'Shoes': 'Barefoot', 'tokenId': 121}, {'Face': 'Sad', 'Gender': 'Girl', 'Head': 'Girl', 'Shoes': 'Barefoot', 'tokenId': 122}, {'Clothes': 'Sushi Shirt', 'Face': 'Sad', 'Gender': 'Girl', 'Head': 'Plain Cap', 'Shoes': 'Plain Sneakers', 'tokenId': 123}, {'Clothes': 'Sushi Shirt', 'Face': 'Smile with dimple', 'Head': 'Ohm Cap', 'Shoes': 'Barefoot', 'tokenId': 124}, {'Clothes': 'Sushi Shirt', 'Face': 'Pensive', 'Head': 'Plain Cap', 'Shoes': 'Barefoot', 'tokenId': 125}, {'Face': 'Sad', 'Gender': 'Girl', 'Head': 'Market Cap', 'Shoes': 'Nikes', 'tokenId': 126}, {'Face': 'Sad', 'Head': 'Ethereum Cap', 'Shoes': 'Nikes', 'tokenId': 127}, {'Face': 'Sad', 'Gender': 'Girl', 'Head': 'Ohm Cap', 'Shoes': 'Plain Sneakers', 'tokenId': 128}, {'Clothes': 'Sushi Shirt', 'Face': 'Smile', 'Head': 'Girl', 'Shoes': 'Plain Sneakers', 'tokenId': 129}, {'Clothes': 'Sushi Shirt', 'Face': 'Smile', 'Head': 'Plain Cap', 'Shoes': 'Plain Sneakers', 'tokenId': 130}, {'Clothes': 'Sushi Shirt', 'Face': 'Sad', 'Head': 'Ethereum Cap', 'Shoes': 'Barefoot', 'tokenId': 131}, {'Face': 'Anrgy', 'Gender': 'Girl', 'Head': 'Girl', 'Shoes': 'Barefoot', 'tokenId': 132}, {'Face': 'Smile', 'Head': 'Girl', 'Shoes': 'Nikes', 'tokenId': 133}, {'Face': 'Smile', 'Head': 'Market Cap', 'Shoes': 'Nikes with Unisocks', 'tokenId': 134}, {'Clothes': 'Sushi Shirt', 'Face': 'Anrgy', 'Gender': 'Girl', 'Head': 'Market Cap', 'Shoes': 'Nikes with Unisocks', 'tokenId': 135}, {'Face': 'Smile', 'Gender': 'Girl', 'Head': 'Plain Cap', 'Shoes': 'Barefoot', 'tokenId': 136}, {'Face': 'Anrgy', 'Gender': 'Girl', 'Head': 'Market Cap', 'Shoes': 'Nikes', 'tokenId': 137}, {'Clothes': 'Sushi Shirt', 'Face': 'Pensive', 'Gender': 'Girl', 'Head': 'Ethereum Cap', 'Shoes': 'Plain Sneakers', 'tokenId': 138}, {'Face': 'Pensive', 'Gender': 'Girl', 'Head': 'Ethereum Cap', 'Shoes': 'Plain Sneakers', 'tokenId': 139}, {'Clothes': 'Sushi Shirt', 'Face': 'Smile', 'Head': 'Market Cap', 'Shoes': 'Barefoot', 'tokenId': 140}, {'Face': 'Smile', 'Gender': 'Girl', 'Head': 'Girl', 'Shoes': 'Plain Sneakers', 'tokenId': 141}, {'Face': 'Sad', 'Gender': 'Girl', 'Head': 'Plain Cap', 'Shoes': 'Nikes', 'tokenId': 142}, {'Face': 'Anrgy', 'Gender': 'Girl', 'Head': 'Ethereum Cap', 'Shoes': 'Nikes', 'tokenId': 143}, {'Clothes': 'Sushi Shirt', 'Face': 'Smile', 'Head': 'Ohm Cap', 'Shoes': 'Nikes', 'tokenId': 144}, {'Face': 'Smile with dimple', 'Head': 'Ohm Cap', 'Shoes': 'Barefoot', 'tokenId': 145}, {'Face': 'Pensive', 'Gender': 'Girl', 'Head': 'Market Cap', 'Shoes': 'Nikes', 'tokenId': 146}, {'Clothes': 'Sushi Shirt', 'Face': 'Sad', 'Gender': 'Girl', 'Head': 'Market Cap', 'Shoes': 'Plain Sneakers', 'tokenId': 147}, {'Clothes': 'Sushi Shirt', 'Face': 'Sad', 'Head': 'Ohm Cap', 'Shoes': 'Plain Sneakers', 'tokenId': 148}, {'Clothes': 'Sushi Shirt', 'Face': 'Anrgy', 'Head': 'Plain Cap', 'Shoes': 'Plain Sneakers', 'tokenId': 149}, {'Clothes': 'Sushi Shirt', 'Face': 'Smile with dimple', 'Head': 'Market Cap', 'Shoes': 'Plain Sneakers', 'tokenId': 150}, {'Face': 'Smile with dimple', 'Head': 'Girl', 'Shoes': 'Nikes', 'tokenId': 151}, {'Face': 'Smile', 'Gender': 'Girl', 'Head': 'Plain Cap', 'Shoes': 'Plain Sneakers', 'tokenId': 152}, {'Clothes': 'Sushi Shirt', 'Face': 'Anrgy', 'Head': 'Ethereum Cap', 'Shoes': 'Nikes', 'tokenId': 153}, {'Clothes': 'Sushi Shirt', 'Face': 'Pensive', 'Head': 'Ohm Cap', 'Shoes': 'Barefoot', 'tokenId': 154}, {'Clothes': 'Sushi Shirt', 'Face': 'Smile', 'Head': 'Ethereum Cap', 'Shoes': 'Barefoot', 'tokenId': 155}, {'Face': 'Smile', 'Gender': 'Girl', 'Head': 'Ohm Cap', 'Shoes': 'Barefoot', 'tokenId': 156}, {'Face': 'Smile', 'Gender': 'Girl', 'Head': 'Girl', 'Shoes': 'Nikes', 'tokenId': 157}, {'Face': 'Smile', 'Gender': 'Girl', 'Head': 'Market Cap', 'Shoes': 'Nikes with Unisocks', 'tokenId': 158}, {'Face': 'Anrgy', 'Gender': 'Girl', 'Head': 'Ohm Cap', 'Shoes': 'Barefoot', 'tokenId': 159}, {'Face': 'Sad', 'Head': 'Plain Cap', 'Shoes': 'Nikes', 'tokenId': 160}, {'Face': 'Smile with dimple', 'Gender': 'Girl', 'Head': 'Ethereum Cap', 'Shoes': 'Plain Sneakers', 'tokenId': 161}, {'Clothes': 'Sushi Shirt', 'Face': 'Sad', 'Head': 'Ethereum Cap', 'Shoes': 'Nikes with Unisocks', 'tokenId': 162}, {'Clothes': 'Sushi Shirt', 'Face': 'Pensive', 'Head': 'Ohm Cap', 'Shoes': 'Plain Sneakers', 'tokenId': 163}, {'Clothes': 'Sushi Shirt', 'Face': 'Pensive', 'Head': 'Ethereum Cap', 'Shoes': 'Barefoot', 'tokenId': 164}, {'Clothes': 'Sushi Shirt', 'Face': 'Anrgy', 'Head': 'Girl', 'Shoes': 'Barefoot', 'tokenId': 165}, {'Face': 'Anrgy', 'Head': 'Plain Cap', 'Shoes': 'Nikes with Unisocks', 'tokenId': 166}, {'Face': 'Anrgy', 'Head': 'Ethereum Cap', 'Shoes': 'Nikes with Unisocks', 'tokenId': 167}, {'Face': 'Smile', 'Head': 'Plain Cap', 'Shoes': 'Nikes', 'tokenId': 168}, {'Clothes': 'Sushi Shirt', 'Face': 'Smile with dimple', 'Head': 'Ethereum Cap', 'Shoes': 'Barefoot', 'tokenId': 169}, {'Clothes': 'Sushi Shirt', 'Face': 'Pensive', 'Head': 'Plain Cap', 'Shoes': 'Plain Sneakers', 'tokenId': 170}, {'Face': 'Smile', 'Gender': 'Girl', 'Head': 'Market Cap', 'Shoes': 'Nikes', 'tokenId': 171}, {'Clothes': 'Sushi Shirt', 'Face': 'Smile', 'Head': 'Ohm Cap', 'Shoes': 'Plain Sneakers', 'tokenId': 172}, {'Clothes': 'Sushi Shirt', 'Face': 'Smile with dimple', 'Gender': 'Girl', 'Head': 'Ohm Cap', 'Shoes': 'Plain Sneakers', 'tokenId': 173}, {'Face': 'Pensive', 'Head': 'Ethereum Cap', 'Shoes': 'Nikes with Unisocks', 'tokenId': 174}, {'Clothes': 'Sushi Shirt', 'Face': 'Smile', 'Gender': 'Girl', 'Head': 'Market Cap', 'Shoes': 'Plain Sneakers', 'tokenId': 175}, {'Clothes': 'Sushi Shirt', 'Face': 'Anrgy', 'Gender': 'Girl', 'Head': 'Ethereum Cap', 'Shoes': 'Plain Sneakers', 'tokenId': 176}, {'Clothes': 'Sushi Shirt', 'Face': 'Sad', 'Head': 'Girl', 'Shoes': 'Barefoot', 'tokenId': 177}, {'Clothes': 'Sushi Shirt', 'Face': 'Smile', 'Gender': 'Girl', 'Head': 'Market Cap', 'Shoes': 'Barefoot', 'tokenId': 178}, {'Face': 'Anrgy', 'Head': 'Girl', 'Shoes': 'Nikes with Unisocks', 'tokenId': 179}, {'Clothes': 'Sushi Shirt', 'Face': 'Smile with dimple', 'Head': 'Girl', 'Shoes': 'Barefoot', 'tokenId': 180}, {'Clothes': 'Sushi Shirt', 'Face': 'Anrgy', 'Head': 'Ohm Cap', 'Shoes': 'Barefoot', 'tokenId': 181}, {'Clothes': 'Sushi Shirt', 'Face': 'Anrgy', 'Gender': 'Girl', 'Head': 'Plain Cap', 'Shoes': 'Plain Sneakers', 'tokenId': 182}, {'Face': 'Smile with dimple', 'Head': 'Market Cap', 'Shoes': 'Nikes', 'tokenId': 183}, {'Face': 'Smile with dimple', 'Gender': 'Girl', 'Head': 'Plain Cap', 'Shoes': 'Barefoot', 'tokenId': 184}, {'Face': 'Pensive', 'Head': 'Girl', 'Shoes': 'Nikes', 'tokenId': 185}, {'Clothes': 'Sushi Shirt', 'Face': 'Smile', 'Head': 'Ohm Cap', 'Shoes': 'Barefoot', 'tokenId': 186}, {'Face': 'Sad', 'Head': 'Girl', 'Shoes': 'Nikes', 'tokenId': 187}, {'Face': 'Smile with dimple', 'Head': 'Plain Cap', 'Shoes': 'Nikes', 'tokenId': 188}, {'Face': 'Smile with dimple', 'Head': 'Girl', 'Shoes': 'Plain Sneakers', 'tokenId': 189}, {'Face': 'Smile', 'Gender': 'Girl', 'Head': 'Ohm Cap', 'Shoes': 'Plain Sneakers', 'tokenId': 190}, {'Face': 'Smile', 'Gender': 'Girl', 'Head': 'Market Cap', 'Shoes': 'Barefoot', 'tokenId': 191}, {'Clothes': 'Sushi Shirt', 'Face': 'Pensive', 'Gender': 'Girl', 'Head': 'Market Cap', 'Shoes': 'Plain Sneakers', 'tokenId': 192}, {'Clothes': 'Sushi Shirt', 'Face': 'Sad', 'Gender': 'Girl', 'Head': 'Girl', 'Shoes': 'Plain Sneakers', 'tokenId': 193}, {'Face': 'Sad', 'Head': 'Ohm Cap', 'Shoes': 'Nikes with Unisocks', 'tokenId': 194}, {'Clothes': 'Sushi Shirt', 'Face': 'Smile', 'Gender': 'Girl', 'Head': 'Ethereum Cap', 'Shoes': 'Plain Sneakers', 'tokenId': 195}, {'Face': 'Pensive', 'Gender': 'Girl', 'Head': 'Ohm Cap', 'Shoes': 'Barefoot', 'tokenId': 196}, {'Face': 'Pensive', 'Head': 'Girl', 'Shoes': 'Nikes with Unisocks', 'tokenId': 197}, {'Clothes': 'Sushi Shirt', 'Face': 'Smile', 'Head': 'Ethereum Cap', 'Shoes': 'Nikes', 'tokenId': 198}, {'Face': 'Sad', 'Gender': 'Girl', 'Head': 'Plain Cap', 'Shoes': 'Plain Sneakers', 'tokenId': 199}, {'Face': 'Sad', 'Gender': 'Girl', 'Head': 'Ethereum Cap', 'Shoes': 'Barefoot', 'tokenId': 200}, {'Face': 'Pensive', 'Gender': 'Girl', 'Head': 'Girl', 'Shoes': 'Plain Sneakers', 'tokenId': 201}, {'Clothes': 'Sushi Shirt', 'Face': 'Anrgy', 'Head': 'Ethereum Cap', 'Shoes': 'Barefoot', 'tokenId': 202}, {'Clothes': 'Sushi Shirt', 'Face': 'Smile with dimple', 'Head': 'Plain Cap', 'Shoes': 'Plain Sneakers', 'tokenId': 203}, {'Face': 'Smile', 'Head': 'Plain Cap', 'Shoes': 'Nikes with Unisocks', 'tokenId': 204}, {'Face': 'Anrgy', 'Head': 'Girl', 'Shoes': 'Nikes', 'tokenId': 205}, {'Clothes': 'Sushi Shirt', 'Face': 'Smile', 'Head': 'Market Cap', 'Shoes': 'Nikes', 'tokenId': 206}, {'Face': 'Smile with dimple', 'Gender': 'Girl', 'Head': 'Market Cap', 'Shoes': 'Plain Sneakers', 'tokenId': 207}, {'Face': 'Smile with dimple', 'Head': 'Ethereum Cap', 'Shoes': 'Nikes with Unisocks', 'tokenId': 208}, {'Face': 'Anrgy', 'Gender': 'Girl', 'Head': 'Market Cap', 'Shoes': 'Barefoot', 'tokenId': 209}, {'Clothes': 'Sushi Shirt', 'Face': 'Sad', 'Gender': 'Girl', 'Head': 'Ethereum Cap', 'Shoes': 'Nikes', 'tokenId': 210}, {'Clothes': 'Sushi Shirt', 'Face': 'Sad', 'Head': 'Market Cap', 'Shoes': 'Nikes with Unisocks', 'tokenId': 211}, {'Face': 'Smile with dimple', 'Head': 'Ohm Cap', 'Shoes': 'Nikes', 'tokenId': 212}, {'Clothes': 'Sushi Shirt', 'Face': 'Sad', 'Gender': 'Girl', 'Head': 'Ohm Cap', 'Shoes': 'Barefoot', 'tokenId': 213}, {'Face': 'Smile with dimple', 'Gender': 'Girl', 'Head': 'Ethereum Cap', 'Shoes': 'Barefoot', 'tokenId': 214}, {'Clothes': 'Sushi Shirt', 'Face': 'Anrgy', 'Head': 'Plain Cap', 'Shoes': 'Nikes with Unisocks', 'tokenId': 215}, {'Face': 'Sad', 'Gender': 'Girl', 'Head': 'Ethereum Cap', 'Shoes': 'Nikes', 'tokenId': 216}, {'Clothes': 'Sushi Shirt', 'Face': 'Smile', 'Gender': 'Girl', 'Head': 'Ohm Cap', 'Shoes': 'Barefoot', 'tokenId': 217}, {'Face': 'Pensive', 'Head': 'Ohm Cap', 'Shoes': 'Nikes with Unisocks', 'tokenId': 218}, {'Clothes': 'Sushi Shirt', 'Face': 'Smile', 'Head': 'Plain Cap', 'Shoes': 'Barefoot', 'tokenId': 219}, {'Clothes': 'Sushi Shirt', 'Face': 'Pensive', 'Head': 'Girl', 'Shoes': 'Barefoot', 'tokenId': 220}, {'Clothes': 'Sushi Shirt', 'Face': 'Anrgy', 'Head': 'Girl', 'Shoes': 'Nikes', 'tokenId': 221}, {'Face': 'Smile with dimple', 'Gender': 'Girl', 'Head': 'Girl', 'Shoes': 'Plain Sneakers', 'tokenId': 222}, {'Face': 'Smile', 'Head': 'Girl', 'Shoes': 'Nikes with Unisocks', 'tokenId': 223}, {'Clothes': 'Sushi Shirt', 'Face': 'Anrgy', 'Head': 'Ohm Cap', 'Shoes': 'Nikes with Unisocks', 'tokenId': 224}, {'Clothes': 'Sushi Shirt', 'Face': 'Smile', 'Head': 'Girl', 'Shoes': 'Barefoot', 'tokenId': 225}, {'Clothes': 'Sushi Shirt', 'Face': 'Smile with dimple', 'Gender': 'Girl', 'Head': 'Market Cap', 'Shoes': 'Plain Sneakers', 'tokenId': 226}, {'Clothes': 'Sushi Shirt', 'Face': 'Anrgy', 'Head': 'Market Cap', 'Shoes': 'Nikes', 'tokenId': 227}, {'Face': 'Smile', 'Gender': 'Girl', 'Head': 'Girl', 'Shoes': 'Barefoot', 'tokenId': 228}, {'Clothes': 'Sushi Shirt', 'Face': 'Smile with dimple', 'Head': 'Plain Cap', 'Shoes': 'Barefoot', 'tokenId': 229}, {'Face': 'Pensive', 'Head': 'Market Cap', 'Shoes': 'Nikes with Unisocks', 'tokenId': 230}, {'Clothes': 'Sushi Shirt', 'Face': 'Smile', 'Gender': 'Girl', 'Head': 'Ethereum Cap', 'Shoes': 'Nikes', 'tokenId': 231}, {'Clothes': 'Sushi Shirt', 'Face': 'Pensive', 'Head': 'Ohm Cap', 'Shoes': 'Nikes', 'tokenId': 232}, {'Face': 'Pensive', 'Gender': 'Girl', 'Head': 'Ohm Cap', 'Shoes': 'Nikes', 'tokenId': 233}, {'Clothes': 'Sushi Shirt', 'Face': 'Sad', 'Gender': 'Girl', 'Head': 'Market Cap', 'Shoes': 'Barefoot', 'tokenId': 234}, {'Clothes': 'Sushi Shirt', 'Face': 'Sad', 'Head': 'Ohm Cap', 'Shoes': 'Nikes', 'tokenId': 235}, {'Clothes': 'Sushi Shirt', 'Face': 'Sad', 'Head': 'Plain Cap', 'Shoes': 'Nikes', 'tokenId': 236}, {'Face': 'Pensive', 'Gender': 'Girl', 'Head': 'Girl', 'Shoes': 'Nikes', 'tokenId': 237}, {'Clothes': 'Sushi Shirt', 'Face': 'Smile', 'Head': 'Girl', 'Shoes': 'Nikes', 'tokenId': 238}, {'Face': 'Pensive', 'Gender': 'Girl', 'Head': 'Plain Cap', 'Shoes': 'Nikes', 'tokenId': 239}, {'Clothes': 'Sushi Shirt', 'Face': 'Anrgy', 'Gender': 'Girl', 'Head': 'Girl', 'Shoes': 'Barefoot', 'tokenId': 240}, {'Face': 'Sad', 'Gender': 'Girl', 'Head': 'Ohm Cap', 'Shoes': 'Barefoot', 'tokenId': 241}, {'Clothes': 'Sushi Shirt', 'Face': 'Sad', 'Gender': 'Girl', 'Head': 'Market Cap', 'Shoes': 'Nikes', 'tokenId': 242}, {'Clothes': 'Sushi Shirt', 'Face': 'Sad', 'Gender': 'Girl', 'Head': 'Ethereum Cap', 'Shoes': 'Barefoot', 'tokenId': 243}, {'Face': 'Anrgy', 'Gender': 'Girl', 'Head': 'Plain Cap', 'Shoes': 'Nikes', 'tokenId': 244}, {'Clothes': 'Sushi Shirt', 'Face': 'Smile', 'Gender': 'Girl', 'Head': 'Ohm Cap', 'Shoes': 'Plain Sneakers', 'tokenId': 245}, {'Clothes': 'Sushi Shirt', 'Face': 'Pensive', 'Head': 'Market Cap', 'Shoes': 'Nikes with Unisocks', 'tokenId': 246}, {'Clothes': 'Sushi Shirt', 'Face': 'Anrgy', 'Gender': 'Girl', 'Head': 'Market Cap', 'Shoes': 'Plain Sneakers', 'tokenId': 247}, {'Clothes': 'Sushi Shirt', 'Face': 'Sad', 'Gender': 'Girl', 'Head': 'Plain Cap', 'Shoes': 'Nikes', 'tokenId': 248}, {'Clothes': 'Sushi Shirt', 'Face': 'Sad', 'Head': 'Plain Cap', 'Shoes': 'Nikes with Unisocks', 'tokenId': 249}]\n"
     ]
    }
   ],
   "source": [
    "print(all_images)"
   ]
  },
  {
   "cell_type": "code",
   "execution_count": 103,
   "metadata": {},
   "outputs": [
    {
     "name": "stdout",
     "output_type": "stream",
     "text": [
      "{'Face': {'Pensive': 51, 'Anrgy': 55, 'Sad': 56, 'Smile': 54, 'Smile with dimple': 34}, 'Head': {'Ohm Cap': 44, 'Market Cap': 59, 'Plain Cap': 49, 'Girl': 46, 'Ethereum Cap': 52}, 'Shoes': {'Nikes': 56, 'Plain Sneakers': 86, 'Barefoot': 81, 'Nikes with Unisocks': 27}, 'Gender': {'Girl': 89}, 'Clothes': {'Sushi Shirt': 95}}\n"
     ]
    }
   ],
   "source": [
    "# Get Trait Counts\n",
    "\n",
    "trait_counts = {}\n",
    "\n",
    "for image in all_images:\n",
    "    for attribute in image:\n",
    "        if attribute == \"tokenId\":\n",
    "            continue\n",
    "        if not attribute in trait_counts:\n",
    "            trait_counts[attribute] = {}\n",
    "        if not image[attribute] in trait_counts[attribute]:\n",
    "            trait_counts[attribute][image[attribute]] = 0\n",
    "        \n",
    "        trait_counts[attribute][image[attribute]] += 1\n",
    "            \n",
    "print(trait_counts)"
   ]
  },
  {
   "cell_type": "code",
   "execution_count": 104,
   "metadata": {},
   "outputs": [],
   "source": [
    "#### Generate Metadata for all Traits \n",
    "METADATA_FILE_NAME = './metadata/all-traits.json'; \n",
    "with open(METADATA_FILE_NAME, 'w') as outfile:\n",
    "    json.dump(all_images, outfile, indent=4)"
   ]
  },
  {
   "cell_type": "code",
   "execution_count": 105,
   "metadata": {},
   "outputs": [],
   "source": [
    "trait_dirs = {\n",
    "    \"Clothes\": \"clothes\",\n",
    "    \"Head\": \"head\",\n",
    "    \"Shoes\": \"shoes\",\n",
    "    \"Face\": \"faces\",\n",
    "    \"Gender\": \"head\"\n",
    "}  \n",
    "    \n",
    "#### Generate Images    \n",
    "for item in all_images:\n",
    "\n",
    "    base = Image.open(f\"./trait-layers/base.png\")\n",
    "    \n",
    "    layers = [base]\n",
    "    for attribute in item:\n",
    "        if not attribute in trait_dirs:\n",
    "            continue\n",
    "        img = Image.open(f'./trait-layers/{trait_dirs[attribute]}/{name_filename[item[attribute]]}.png').convert('RGBA')\n",
    "        layers.append(img)\n",
    "    \n",
    "    com = None\n",
    "    for i in range(1, len(layers)):\n",
    "        if not com:\n",
    "            com = Image.alpha_composite(layers[i-1], layers[i])\n",
    "        else:\n",
    "            com = Image.alpha_composite(com, layers[i])\n",
    "            \n",
    "    #Convert to RGB\n",
    "    rgb_im = com.convert('RGB')\n",
    "    file_name = str(item[\"tokenId\"]) + \".png\"\n",
    "    rgb_im.save(\"./images/\" + file_name)"
   ]
  },
  {
   "cell_type": "code",
   "execution_count": 106,
   "metadata": {},
   "outputs": [],
   "source": [
    "#### Generate Metadata for each Image    \n",
    "\n",
    "f = open('./metadata/all-traits.json',) \n",
    "data = json.load(f)\n",
    "\n",
    "\n",
    "IMAGES_BASE_URI = \"ADD_IMAGES_BASE_URI_HERE\"\n",
    "PROJECT_NAME = \"ADD_PROJECT_NAME_HERE\"\n",
    "\n",
    "def getAttribute(key, value):\n",
    "    return {\n",
    "        \"trait_type\": key,\n",
    "        \"value\": value\n",
    "    }\n",
    "\n",
    "for i in data:\n",
    "    token_id = i['tokenId']\n",
    "    token = {\n",
    "        \"image\": IMAGES_BASE_URI + str(token_id) + '.png',\n",
    "        \"tokenId\": token_id,\n",
    "        \"name\": PROJECT_NAME + ' ' + str(token_id),\n",
    "        \"attributes\": []\n",
    "    }\n",
    "    for attribute in attribute_mapping:\n",
    "        if attribute in i:\n",
    "            token[\"attributes\"].append(getAttribute(attribute, i[attribute]))\n",
    "\n",
    "    with open('./metadata/' + str(token_id), 'w') as outfile:\n",
    "        json.dump(token, outfile, indent=4)\n",
    "f.close()"
   ]
  },
  {
   "cell_type": "code",
   "execution_count": null,
   "metadata": {},
   "outputs": [],
   "source": []
  }
 ],
 "metadata": {
  "interpreter": {
   "hash": "3d65f8beab89bca824669a8319117cabe601d9aca9a71aad8efeb42336828120"
  },
  "kernelspec": {
   "display_name": "Python 3",
   "language": "python",
   "name": "python3"
  },
  "language_info": {
   "codemirror_mode": {
    "name": "ipython",
    "version": 3
   },
   "file_extension": ".py",
   "mimetype": "text/x-python",
   "name": "python",
   "nbconvert_exporter": "python",
   "pygments_lexer": "ipython3",
   "version": "3.8.5"
  }
 },
 "nbformat": 4,
 "nbformat_minor": 4
}
